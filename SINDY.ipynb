{
 "cells": [
  {
   "cell_type": "code",
   "execution_count": 559,
   "id": "213e23a1",
   "metadata": {},
   "outputs": [],
   "source": [
    "import numpy as np"
   ]
  },
  {
   "cell_type": "code",
   "execution_count": 560,
   "id": "7f84a0ce",
   "metadata": {},
   "outputs": [],
   "source": [
    "dt = 0.01\n",
    "n =10000\n",
    "m=4\n",
    "q = np.zeros((n,m))\n",
    "p = np.zeros((n,m))\n",
    "k=1"
   ]
  },
  {
   "cell_type": "code",
   "execution_count": 561,
   "id": "9567c450",
   "metadata": {},
   "outputs": [],
   "source": [
    "q[0] = np.random.rand(m)\n",
    "f = np.zeros((n,m))\n",
    "f[0] = -k*q[0]"
   ]
  },
  {
   "cell_type": "code",
   "execution_count": 562,
   "id": "c0dfbe55",
   "metadata": {},
   "outputs": [],
   "source": [
    "def generate(q,p,dt):\n",
    "    for i in range(n-1):\n",
    "        \n",
    "        q[i+1] = q[i] + p[i]*dt + f[i]*0.5*dt**2\n",
    "        f[i+1] = -k*q[i+1]\n",
    "        p[i+1] = p[i] + 0.5*(f[i]+f[i+1])*dt"
   ]
  },
  {
   "cell_type": "code",
   "execution_count": 563,
   "id": "55d4d22d",
   "metadata": {},
   "outputs": [],
   "source": [
    "generate(q,p,dt)"
   ]
  },
  {
   "cell_type": "code",
   "execution_count": 564,
   "id": "62db67be",
   "metadata": {},
   "outputs": [],
   "source": [
    "theta = np.concatenate((q,p,np.cos(q),np.sin(q),np.cos(p),np.sin(p)),axis=1)"
   ]
  },
  {
   "cell_type": "code",
   "execution_count": 565,
   "id": "d948ec91",
   "metadata": {},
   "outputs": [],
   "source": [
    "new_column = np.ones((theta.shape[0], 1))\n",
    "theta = np.c_[theta, new_column]"
   ]
  },
  {
   "cell_type": "code",
   "execution_count": 566,
   "id": "0e6ad6cc",
   "metadata": {},
   "outputs": [],
   "source": [
    "zeta = np.linalg.lstsq(theta, p, rcond=None)[0]"
   ]
  },
  {
   "cell_type": "code",
   "execution_count": 567,
   "id": "070203e1",
   "metadata": {},
   "outputs": [],
   "source": [
    "for i in range(10):\n",
    "    smallinds = np.abs(zeta)<0.01\n",
    "    zeta[smallinds] = 0\n",
    "    \n",
    "    for ind in range(m):\n",
    "        biginds = ~smallinds[:,ind]\n",
    "        zeta[biginds, ind] = np.linalg.lstsq(theta[:, biginds], p[:, ind], rcond=None)[0]"
   ]
  },
  {
   "cell_type": "code",
   "execution_count": 568,
   "id": "b160ec25",
   "metadata": {},
   "outputs": [
    {
     "data": {
      "text/plain": [
       "array([[0.        , 0.        , 0.        , 0.        ],\n",
       "       [0.        , 0.        , 0.        , 0.        ],\n",
       "       [0.        , 0.        , 0.        , 0.        ],\n",
       "       [0.        , 0.        , 0.        , 0.        ],\n",
       "       [0.25160654, 0.20405257, 0.35359792, 0.14707736],\n",
       "       [0.20405257, 0.16548636, 0.28676744, 0.11927954],\n",
       "       [0.35359792, 0.28676744, 0.49693258, 0.20669673],\n",
       "       [0.14707736, 0.11927954, 0.20669673, 0.08597452],\n",
       "       [0.        , 0.        , 0.        , 0.        ],\n",
       "       [0.        , 0.        , 0.        , 0.        ],\n",
       "       [0.        , 0.        , 0.        , 0.        ],\n",
       "       [0.        , 0.        , 0.        , 0.        ],\n",
       "       [0.        , 0.        , 0.        , 0.        ],\n",
       "       [0.        , 0.        , 0.        , 0.        ],\n",
       "       [0.        , 0.        , 0.        , 0.        ],\n",
       "       [0.        , 0.        , 0.        , 0.        ],\n",
       "       [0.        , 0.        , 0.        , 0.        ],\n",
       "       [0.        , 0.        , 0.        , 0.        ],\n",
       "       [0.        , 0.        , 0.        , 0.        ],\n",
       "       [0.        , 0.        , 0.        , 0.        ],\n",
       "       [0.        , 0.        , 0.        , 0.        ],\n",
       "       [0.        , 0.        , 0.        , 0.        ],\n",
       "       [0.        , 0.        , 0.        , 0.        ],\n",
       "       [0.        , 0.        , 0.        , 0.        ],\n",
       "       [0.        , 0.        , 0.        , 0.        ]])"
      ]
     },
     "execution_count": 568,
     "metadata": {},
     "output_type": "execute_result"
    }
   ],
   "source": [
    "zeta"
   ]
  },
  {
   "cell_type": "code",
   "execution_count": null,
   "id": "f328f152",
   "metadata": {},
   "outputs": [],
   "source": []
  },
  {
   "cell_type": "code",
   "execution_count": null,
   "id": "ff2bfb0e",
   "metadata": {},
   "outputs": [],
   "source": []
  }
 ],
 "metadata": {
  "kernelspec": {
   "display_name": "Python 3 (ipykernel)",
   "language": "python",
   "name": "python3"
  },
  "language_info": {
   "codemirror_mode": {
    "name": "ipython",
    "version": 3
   },
   "file_extension": ".py",
   "mimetype": "text/x-python",
   "name": "python",
   "nbconvert_exporter": "python",
   "pygments_lexer": "ipython3",
   "version": "3.10.8"
  }
 },
 "nbformat": 4,
 "nbformat_minor": 5
}
